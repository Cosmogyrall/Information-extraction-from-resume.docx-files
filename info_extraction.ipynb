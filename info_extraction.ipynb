{
  "nbformat": 4,
  "nbformat_minor": 0,
  "metadata": {
    "colab": {
      "provenance": []
    },
    "kernelspec": {
      "name": "python3",
      "display_name": "Python 3"
    },
    "language_info": {
      "name": "python"
    }
  },
  "cells": [
    {
      "cell_type": "markdown",
      "source": [
        "to run this code successully follow the step: \n",
        "1. upload the resume folder on runtime (name it as \"Resumes\" only )\n",
        "2. run the extractor() function with filename of your resume file as the argument. ('my_resume.docx) \n",
        "3. only works for .docx extension\n",
        " "
      ],
      "metadata": {
        "id": "9sK838O8uiOi"
      }
    },
    {
      "cell_type": "code",
      "execution_count": 1,
      "metadata": {
        "colab": {
          "base_uri": "https://localhost:8080/"
        },
        "id": "IhYs5J6C14Q-",
        "outputId": "41e93044-1848-4e37-cc54-2e13a16c85c4"
      },
      "outputs": [
        {
          "output_type": "stream",
          "name": "stdout",
          "text": [
            "Looking in indexes: https://pypi.org/simple, https://us-python.pkg.dev/colab-wheels/public/simple/\n",
            "Collecting python-docx\n",
            "  Downloading python-docx-0.8.11.tar.gz (5.6 MB)\n",
            "\u001b[K     |████████████████████████████████| 5.6 MB 4.1 MB/s \n",
            "\u001b[?25hRequirement already satisfied: lxml>=2.3.2 in /usr/local/lib/python3.8/dist-packages (from python-docx) (4.9.1)\n",
            "Building wheels for collected packages: python-docx\n",
            "  Building wheel for python-docx (setup.py) ... \u001b[?25l\u001b[?25hdone\n",
            "  Created wheel for python-docx: filename=python_docx-0.8.11-py3-none-any.whl size=184505 sha256=1b3f455a5990e1130320954edc27709930094ba9bbdf45773affc283e3247fb5\n",
            "  Stored in directory: /root/.cache/pip/wheels/32/b8/b2/c4c2b95765e615fe139b0b17b5ea7c0e1b6519b0a9ec8fb34d\n",
            "Successfully built python-docx\n",
            "Installing collected packages: python-docx\n",
            "Successfully installed python-docx-0.8.11\n"
          ]
        }
      ],
      "source": [
        "!pip install python-docx"
      ]
    },
    {
      "cell_type": "code",
      "source": [
        "!unzip /content/Resumes.zip"
      ],
      "metadata": {
        "colab": {
          "base_uri": "https://localhost:8080/"
        },
        "id": "3dKxVQhC3o7P",
        "outputId": "3d169ccf-4048-4bf2-87fe-bd5fca549549"
      },
      "execution_count": 2,
      "outputs": [
        {
          "output_type": "stream",
          "name": "stdout",
          "text": [
            "Archive:  /content/Resumes.zip\n",
            "   creating: Resumes/\n",
            "  inflating: __MACOSX/._Resumes      \n",
            "  inflating: Resumes/Venkat_BA.docx  \n",
            "  inflating: __MACOSX/Resumes/._Venkat_BA.docx  \n",
            "  inflating: Resumes/Shashank.docx   \n",
            "  inflating: __MACOSX/Resumes/._Shashank.docx  \n",
            "  inflating: Resumes/Anudeep N_Sr Java Developer.docx  \n",
            "  inflating: __MACOSX/Resumes/._Anudeep N_Sr Java Developer.docx  \n",
            "  inflating: Resumes/ram nandyala.docx  \n",
            "  inflating: __MACOSX/Resumes/._ram nandyala.docx  \n",
            "  inflating: Resumes/Neha Mugghala.docx  \n",
            "  inflating: __MACOSX/Resumes/._Neha Mugghala.docx  \n",
            "  inflating: Resumes/chenna kesava.docx  \n",
            "  inflating: __MACOSX/Resumes/._chenna kesava.docx  \n",
            "  inflating: Resumes/Utthan Silawal12.docx  \n",
            "  inflating: __MACOSX/Resumes/._Utthan Silawal12.docx  \n",
            "  inflating: Resumes/Yohan BSA.docx  \n",
            "  inflating: __MACOSX/Resumes/._Yohan BSA.docx  \n",
            "  inflating: Resumes/Madhu_BA_AW.DOCX  \n",
            "  inflating: __MACOSX/Resumes/._Madhu_BA_AW.DOCX  \n",
            "  inflating: Resumes/KIRAN KUMAR.docx  \n",
            "  inflating: __MACOSX/Resumes/._KIRAN KUMAR.docx  \n",
            "  inflating: Resumes/avinash G.docx  \n",
            "  inflating: __MACOSX/Resumes/._avinash G.docx  \n",
            "  inflating: Resumes/Harika_java.docx  \n",
            "  inflating: __MACOSX/Resumes/._Harika_java.docx  \n",
            "  inflating: Resumes/Mounika_P.docx  \n",
            "  inflating: __MACOSX/Resumes/._Mounika_P.docx  \n",
            "  inflating: Resumes/HARI_Sr.Java Developer.docx  \n",
            "  inflating: __MACOSX/Resumes/._HARI_Sr.Java Developer.docx  \n",
            "  inflating: Resumes/RaviRaju_Resume.docx  \n",
            "  inflating: __MACOSX/Resumes/._RaviRaju_Resume.docx  \n",
            "  inflating: Resumes/B Shaker-Sr BSA-Scrum Master .docx  \n",
            "  inflating: __MACOSX/Resumes/._B Shaker-Sr BSA-Scrum Master .docx  \n",
            "  inflating: Resumes/Vamshi Teja_Business Analyst.docx  \n",
            "  inflating: __MACOSX/Resumes/._Vamshi Teja_Business Analyst.docx  \n",
            "  inflating: Resumes/VIJETHA G.docx  \n",
            "  inflating: __MACOSX/Resumes/._VIJETHA G.docx  \n",
            "  inflating: Resumes/SaravanaKumar.docx  \n",
            "  inflating: __MACOSX/Resumes/._SaravanaKumar.docx  \n",
            "  inflating: Resumes/Abiral_Pandey_Fullstack_Java.docx  \n",
            "  inflating: __MACOSX/Resumes/._Abiral_Pandey_Fullstack_Java.docx  \n",
            "  inflating: Resumes/Manohar Reddy.docx  \n",
            "  inflating: __MACOSX/Resumes/._Manohar Reddy.docx  \n",
            "  inflating: Resumes/Syed_Zia_Ashraf.docx  \n",
            "  inflating: __MACOSX/Resumes/._Syed_Zia_Ashraf.docx  \n",
            "  inflating: Resumes/srinivas b.docx  \n",
            "  inflating: __MACOSX/Resumes/._srinivas b.docx  \n",
            "  inflating: Resumes/Gururaja Murthy PMCPCSM.docx  \n",
            "  inflating: __MACOSX/Resumes/._Gururaja Murthy PMCPCSM.docx  \n",
            "  inflating: Resumes/Madhuri Pawar.docx  \n",
            "  inflating: __MACOSX/Resumes/._Madhuri Pawar.docx  \n",
            "  inflating: Resumes/Sr. Business Analyst.docx  \n",
            "  inflating: __MACOSX/Resumes/._Sr. Business Analyst.docx  \n",
            "  inflating: Resumes/Naveen Kumar Bandela.docx  \n",
            "  inflating: __MACOSX/Resumes/._Naveen Kumar Bandela.docx  \n",
            "  inflating: Resumes/mohid_rj.docx   \n",
            "  inflating: __MACOSX/Resumes/._mohid_rj.docx  \n",
            "  inflating: Resumes/Nikki_Nimmagadd.docx  \n",
            "  inflating: __MACOSX/Resumes/._Nikki_Nimmagadd.docx  \n",
            "  inflating: Resumes/Chandler_BA.docx  \n",
            "  inflating: __MACOSX/Resumes/._Chandler_BA.docx  \n",
            "  inflating: Resumes/Ramteja Motupalli.docx  \n",
            "  inflating: __MACOSX/Resumes/._Ramteja Motupalli.docx  \n",
            "  inflating: Resumes/Sri Gati.docx   \n",
            "  inflating: __MACOSX/Resumes/._Sri Gati.docx  \n",
            "  inflating: Resumes/Rajesh_k.docx   \n",
            "  inflating: __MACOSX/Resumes/._Rajesh_k.docx  \n",
            "  inflating: Resumes/Ashok Jayakumar - PM.docx  \n",
            "  inflating: __MACOSX/Resumes/._Ashok Jayakumar - PM.docx  \n",
            "  inflating: Resumes/Sahithi K.docx  \n",
            "  inflating: __MACOSX/Resumes/._Sahithi K.docx  \n",
            "  inflating: Resumes/Deepika Chintalapati.docx  \n",
            "  inflating: __MACOSX/Resumes/._Deepika Chintalapati.docx  \n",
            "  inflating: Resumes/RaviBurra_Certified PM_DevOps.docx  \n",
            "  inflating: __MACOSX/Resumes/._RaviBurra_Certified PM_DevOps.docx  \n",
            "  inflating: Resumes/Business Analyst_GHyma.docx  \n",
            "  inflating: __MACOSX/Resumes/._Business Analyst_GHyma.docx  \n",
            "  inflating: Resumes/Vivek.BSA.docx  \n",
            "  inflating: __MACOSX/Resumes/._Vivek.BSA.docx  \n",
            "  inflating: Resumes/Gokul Selvam S PM.docx  \n",
            "  inflating: __MACOSX/Resumes/._Gokul Selvam S PM.docx  \n",
            "  inflating: Resumes/Naveen Arora.docx  \n",
            "  inflating: __MACOSX/Resumes/._Naveen Arora.docx  \n",
            "  inflating: Resumes/jagadeesh k.docx  \n",
            "  inflating: __MACOSX/Resumes/._jagadeesh k.docx  \n",
            "  inflating: Resumes/BA Kiran.docx   \n",
            "  inflating: __MACOSX/Resumes/._BA Kiran.docx  \n",
            "  inflating: Resumes/Gopi.docx       \n",
            "  inflating: __MACOSX/Resumes/._Gopi.docx  \n",
            "  inflating: Resumes/Raja Santhosam_PM Scrum Master.DOCX  \n",
            "  inflating: __MACOSX/Resumes/._Raja Santhosam_PM Scrum Master.DOCX  \n",
            "  inflating: Resumes/Resume - PM Agile-Scrum.docx  \n",
            "  inflating: __MACOSX/Resumes/._Resume - PM Agile-Scrum.docx  \n",
            "  inflating: Resumes/Satish Uduta.docx  \n",
            "  inflating: __MACOSX/Resumes/._Satish Uduta.docx  \n",
            "  inflating: Resumes/Othman - Project Manager.docx  \n",
            "  inflating: __MACOSX/Resumes/._Othman - Project Manager.docx  \n",
            "  inflating: Resumes/Satish Reddy.docx  \n",
            "  inflating: __MACOSX/Resumes/._Satish Reddy.docx  \n",
            "  inflating: Resumes/Priya_Sharma.docx  \n",
            "  inflating: __MACOSX/Resumes/._Priya_Sharma.docx  \n",
            "  inflating: Resumes/Sai Krishna BA.docx  \n",
            "  inflating: __MACOSX/Resumes/._Sai Krishna BA.docx  \n",
            "  inflating: Resumes/Nandini_Resume.docx  \n",
            "  inflating: __MACOSX/Resumes/._Nandini_Resume.docx  \n",
            "  inflating: Resumes/Vivek Joshi_CV.docx  \n",
            "  inflating: __MACOSX/Resumes/._Vivek Joshi_CV.docx  \n",
            "  inflating: Resumes/indrakaran soma.docx  \n",
            "  inflating: __MACOSX/Resumes/._indrakaran soma.docx  \n",
            "  inflating: Resumes/Priyanka Sr BSA Resume.docx  \n",
            "  inflating: __MACOSX/Resumes/._Priyanka Sr BSA Resume.docx  \n",
            "  inflating: Resumes/Shaker Resume.docx  \n",
            "  inflating: __MACOSX/Resumes/._Shaker Resume.docx  \n",
            "  inflating: Resumes/Tarun Resume.docx  \n",
            "  inflating: __MACOSX/Resumes/._Tarun Resume.docx  \n",
            "  inflating: Resumes/Rajendra-PMP-CSM.docx  \n",
            "  inflating: __MACOSX/Resumes/._Rajendra-PMP-CSM.docx  \n",
            "  inflating: Resumes/Akhil.profile.docx  \n",
            "  inflating: __MACOSX/Resumes/._Akhil.profile.docx  \n",
            "  inflating: Resumes/Mohamad Jamil.docx  \n",
            "  inflating: __MACOSX/Resumes/._Mohamad Jamil.docx  \n",
            "  inflating: Resumes/Pierre John.docx  \n",
            "  inflating: __MACOSX/Resumes/._Pierre John.docx  \n",
            "  inflating: Resumes/Derik.docx      \n",
            "  inflating: __MACOSX/Resumes/._Derik.docx  \n",
            "  inflating: Resumes/Dantu Padmasri - Project Manager.docx  \n",
            "  inflating: __MACOSX/Resumes/._Dantu Padmasri - Project Manager.docx  \n",
            "  inflating: Resumes/Vamshi L.docx   \n",
            "  inflating: __MACOSX/Resumes/._Vamshi L.docx  \n",
            "  inflating: Resumes/Resume Vishal PM - MSIS, PMP-PMI.docx  \n",
            "  inflating: __MACOSX/Resumes/._Resume Vishal PM - MSIS, PMP-PMI.docx  \n",
            "  inflating: Resumes/Deepika DC.docx  \n",
            "  inflating: __MACOSX/Resumes/._Deepika DC.docx  \n",
            "  inflating: Resumes/MounikaReddy.docx  \n",
            "  inflating: __MACOSX/Resumes/._MounikaReddy.docx  \n",
            "  inflating: Resumes/manish_singh_resume.docx  \n",
            "  inflating: __MACOSX/Resumes/._manish_singh_resume.docx  \n",
            "  inflating: Resumes/Smita Kamble_Resume.docx  \n",
            "  inflating: __MACOSX/Resumes/._Smita Kamble_Resume.docx  \n",
            "  inflating: Resumes/nithin katapally.docx  \n",
            "  inflating: __MACOSX/Resumes/._nithin katapally.docx  \n",
            "  inflating: Resumes/harish S.docx   \n",
            "  inflating: __MACOSX/Resumes/._harish S.docx  \n",
            "  inflating: Resumes/ravikiran JALASUTRAPU.docx  \n",
            "  inflating: __MACOSX/Resumes/._ravikiran JALASUTRAPU.docx  \n",
            "  inflating: Resumes/Nilesh-resume_1_phplead.docx  \n",
            "  inflating: __MACOSX/Resumes/._Nilesh-resume_1_phplead.docx  \n",
            "  inflating: Resumes/AnilAgarwal.docx  \n",
            "  inflating: __MACOSX/Resumes/._AnilAgarwal.docx  \n",
            "  inflating: Resumes/Francis Gomes Resume.docx  \n",
            "  inflating: __MACOSX/Resumes/._Francis Gomes Resume.docx  \n",
            "  inflating: Resumes/Avathika BA-Healthcare_.docx  \n",
            "  inflating: __MACOSX/Resumes/._Avathika BA-Healthcare_.docx  \n",
            "  inflating: Resumes/Shiva G-Java Resume.docx  \n",
            "  inflating: __MACOSX/Resumes/._Shiva G-Java Resume.docx  \n",
            "  inflating: Resumes/madhuri R.docx  \n",
            "  inflating: __MACOSX/Resumes/._madhuri R.docx  \n",
            "  inflating: Resumes/Komala BSA Resume.docx  \n",
            "  inflating: __MACOSX/Resumes/._Komala BSA Resume.docx  \n",
            "  inflating: Resumes/Tanmay_Dam_Resume_BA.docx  \n",
            "  inflating: __MACOSX/Resumes/._Tanmay_Dam_Resume_BA.docx  \n",
            "  inflating: Resumes/Randy Adams.docx  \n",
            "  inflating: __MACOSX/Resumes/._Randy Adams.docx  \n",
            "  inflating: Resumes/Balakrishna Sudabathula.docx  \n",
            "  inflating: __MACOSX/Resumes/._Balakrishna Sudabathula.docx  \n",
            "  inflating: Resumes/Amulya Komatineni.docx  \n",
            "  inflating: __MACOSX/Resumes/._Amulya Komatineni.docx  \n",
            "  inflating: Resumes/Krishnapriya_BA.docx  \n",
            "  inflating: __MACOSX/Resumes/._Krishnapriya_BA.docx  \n",
            "  inflating: Resumes/Ravi Pattar- Sr. Agile Program manager.docx  \n",
            "  inflating: __MACOSX/Resumes/._Ravi Pattar- Sr. Agile Program manager.docx  \n",
            "  inflating: Resumes/Pavan Kumar Full Stack Java Developer.docx  \n",
            "  inflating: __MACOSX/Resumes/._Pavan Kumar Full Stack Java Developer.docx  \n",
            "  inflating: Resumes/Krishna_BSA.docx  \n",
            "  inflating: __MACOSX/Resumes/._Krishna_BSA.docx  \n",
            "  inflating: Resumes/Sai Srinivas_Sr_Java_Developer.docx  \n",
            "  inflating: __MACOSX/Resumes/._Sai Srinivas_Sr_Java_Developer.docx  \n",
            "  inflating: Resumes/employer_mounika details.docx  \n",
            "  inflating: __MACOSX/Resumes/._employer_mounika details.docx  \n",
            "  inflating: Resumes/Samir Naik-NJ - Mar 2018-V3.0.docx  \n",
            "  inflating: __MACOSX/Resumes/._Samir Naik-NJ - Mar 2018-V3.0.docx  \n",
            "  inflating: Resumes/Vishnu J.docx   \n",
            "  inflating: __MACOSX/Resumes/._Vishnu J.docx  \n",
            "  inflating: Resumes/Bharatha BA Resume.docx  \n",
            "  inflating: __MACOSX/Resumes/._Bharatha BA Resume.docx  \n",
            "  inflating: Resumes/Vijay Bhargav.docx  \n",
            "  inflating: __MACOSX/Resumes/._Vijay Bhargav.docx  \n",
            "  inflating: Resumes/Praveen B.docx  \n",
            "  inflating: __MACOSX/Resumes/._Praveen B.docx  \n",
            "  inflating: Resumes/Vikash_BA_Ab.docx  \n",
            "  inflating: __MACOSX/Resumes/._Vikash_BA_Ab.docx  \n",
            "  inflating: Resumes/Manohar B.docx  \n",
            "  inflating: __MACOSX/Resumes/._Manohar B.docx  \n",
            "  inflating: Resumes/sai k.docx      \n",
            "  inflating: __MACOSX/Resumes/._sai k.docx  \n",
            "  inflating: Resumes/TeresaNeetipudi IT BA.DOCX  \n",
            "  inflating: __MACOSX/Resumes/._TeresaNeetipudi IT BA.DOCX  \n",
            "  inflating: Resumes/Varun.docx      \n",
            "  inflating: __MACOSX/Resumes/._Varun.docx  \n",
            "  inflating: Resumes/Priya B.docx    \n",
            "  inflating: __MACOSX/Resumes/._Priya B.docx  \n",
            "  inflating: Resumes/PM RESUME.docx  \n",
            "  inflating: __MACOSX/Resumes/._PM RESUME.docx  \n",
            "  inflating: Resumes/Harish K.docx   \n",
            "  inflating: __MACOSX/Resumes/._Harish K.docx  \n",
            "  inflating: Resumes/madhuri_java.docx  \n",
            "  inflating: __MACOSX/Resumes/._madhuri_java.docx  \n",
            "  inflating: Resumes/Kuppurajbabu_BA.docx  \n",
            "  inflating: __MACOSX/Resumes/._Kuppurajbabu_BA.docx  \n",
            "  inflating: Resumes/Kumar Raj.docx  \n",
            "  inflating: __MACOSX/Resumes/._Kumar Raj.docx  \n",
            "  inflating: Resumes/Kashyap K. Vora resume.docx  \n",
            "  inflating: __MACOSX/Resumes/._Kashyap K. Vora resume.docx  \n",
            "  inflating: Resumes/Mahesh_Kamath_PM (1).docx  \n",
            "  inflating: __MACOSX/Resumes/._Mahesh_Kamath_PM (1).docx  \n",
            "  inflating: Resumes/Naren Sr.BA.docx  \n",
            "  inflating: __MACOSX/Resumes/._Naren Sr.BA.docx  \n",
            "  inflating: Resumes/Mitali Barman_Resume.docx  \n",
            "  inflating: __MACOSX/Resumes/._Mitali Barman_Resume.docx  \n",
            "  inflating: Resumes/Manikanta P.docx  \n",
            "  inflating: __MACOSX/Resumes/._Manikanta P.docx  \n",
            "  inflating: Resumes/Adelina_Erimia_PMP1.docx  \n",
            "  inflating: __MACOSX/Resumes/._Adelina_Erimia_PMP1.docx  \n",
            "  inflating: Resumes/Jennifer  M. Conte.docx  \n",
            "  inflating: __MACOSX/Resumes/._Jennifer  M. Conte.docx  \n",
            "  inflating: Resumes/Tarun_Developer.docx  \n",
            "  inflating: __MACOSX/Resumes/._Tarun_Developer.docx  \n",
            "  inflating: Resumes/Sougandh_Java Fullstack Developer.docx  \n",
            "  inflating: __MACOSX/Resumes/._Sougandh_Java Fullstack Developer.docx  \n",
            "  inflating: Resumes/Mani_Hadoop.docx  \n",
            "  inflating: __MACOSX/Resumes/._Mani_Hadoop.docx  \n",
            "  inflating: Resumes/Balaji Gopalakrishnan Project Manager.docx  \n",
            "  inflating: __MACOSX/Resumes/._Balaji Gopalakrishnan Project Manager.docx  \n",
            "  inflating: Resumes/Jagan S Iyer PM.docx  \n",
            "  inflating: __MACOSX/Resumes/._Jagan S Iyer PM.docx  \n",
            "  inflating: Resumes/Dave.docx       \n",
            "  inflating: __MACOSX/Resumes/._Dave.docx  \n",
            "  inflating: Resumes/Mounika health care resume.docx  \n",
            "  inflating: __MACOSX/Resumes/._Mounika health care resume.docx  \n",
            "  inflating: Resumes/Prashant Chawda_resume.docx  \n",
            "  inflating: __MACOSX/Resumes/._Prashant Chawda_resume.docx  \n",
            "  inflating: Resumes/Pranay P.docx   \n",
            "  inflating: __MACOSX/Resumes/._Pranay P.docx  \n",
            "  inflating: Resumes/Vinay.D_Resume.docx  \n",
            "  inflating: __MACOSX/Resumes/._Vinay.D_Resume.docx  \n",
            "  inflating: Resumes/Yugesh_Resume.docx  \n",
            "  inflating: __MACOSX/Resumes/._Yugesh_Resume.docx  \n",
            "  inflating: Resumes/komal patel.docx  \n",
            "  inflating: __MACOSX/Resumes/._komal patel.docx  \n",
            "  inflating: Resumes/Sarath M.docx   \n",
            "  inflating: __MACOSX/Resumes/._Sarath M.docx  \n",
            "  inflating: Resumes/manohar.B.docx  \n",
            "  inflating: __MACOSX/Resumes/._manohar.B.docx  \n",
            "  inflating: Resumes/kalyan das.docx  \n",
            "  inflating: __MACOSX/Resumes/._kalyan das.docx  \n",
            "  inflating: Resumes/Sai kumar.docx  \n",
            "  inflating: __MACOSX/Resumes/._Sai kumar.docx  \n",
            "  inflating: Resumes/SAURABH_PM.docx  \n",
            "  inflating: __MACOSX/Resumes/._SAURABH_PM.docx  \n",
            "  inflating: Resumes/ParthMPatel_BA.docx  \n",
            "  inflating: __MACOSX/Resumes/._ParthMPatel_BA.docx  \n",
            "  inflating: Resumes/Samir Naik-NJ - Feb 2018-V6.0.docx  \n",
            "  inflating: __MACOSX/Resumes/._Samir Naik-NJ - Feb 2018-V6.0.docx  \n",
            "  inflating: Resumes/Naren Sr.BA .docx  \n",
            "  inflating: __MACOSX/Resumes/._Naren Sr.BA .docx  \n",
            "  inflating: Resumes/Krishna Sr. BSA Resume.docx  \n",
            "  inflating: __MACOSX/Resumes/._Krishna Sr. BSA Resume.docx  \n",
            "  inflating: Resumes/Ramachandra EDA.docx  \n",
            "  inflating: __MACOSX/Resumes/._Ramachandra EDA.docx  \n",
            "  inflating: Resumes/Tarun RESUME-BSAT.docx  \n",
            "  inflating: __MACOSX/Resumes/._Tarun RESUME-BSAT.docx  \n",
            "  inflating: Resumes/Sudhakar Reddy.docx  \n",
            "  inflating: __MACOSX/Resumes/._Sudhakar Reddy.docx  \n",
            "  inflating: Resumes/ram krishna.docx  \n",
            "  inflating: __MACOSX/Resumes/._ram krishna.docx  \n",
            "  inflating: Resumes/BA - Navneet.docx  \n",
            "  inflating: __MACOSX/Resumes/._BA - Navneet.docx  \n",
            "  inflating: Resumes/Pavan Sr Business Analyst resume.docx  \n",
            "  inflating: __MACOSX/Resumes/._Pavan Sr Business Analyst resume.docx  \n",
            "  inflating: Resumes/Tejaswi-resume.docx  \n",
            "  inflating: __MACOSX/Resumes/._Tejaswi-resume.docx  \n",
            "  inflating: Resumes/Srivatsan_Project_Manager.docx  \n",
            "  inflating: __MACOSX/Resumes/._Srivatsan_Project_Manager.docx  \n",
            "  inflating: Resumes/Ashwini J2EE Developer.docx  \n",
            "  inflating: __MACOSX/Resumes/._Ashwini J2EE Developer.docx  \n",
            "  inflating: Resumes/Rashmitha R.docx  \n",
            "  inflating: __MACOSX/Resumes/._Rashmitha R.docx  \n",
            "  inflating: Resumes/Shail_Tank-Business Analyst .docx  \n",
            "  inflating: __MACOSX/Resumes/._Shail_Tank-Business Analyst .docx  \n",
            "  inflating: Resumes/Atul_Mathur_Resume.docx  \n",
            "  inflating: __MACOSX/Resumes/._Atul_Mathur_Resume.docx  \n",
            "  inflating: Resumes/Drakshajavauidev.docx  \n",
            "  inflating: __MACOSX/Resumes/._Drakshajavauidev.docx  \n",
            "  inflating: Resumes/Nikith Reddy.docx  \n",
            "  inflating: __MACOSX/Resumes/._Nikith Reddy.docx  \n",
            "  inflating: Resumes/Praveen T.docx  \n",
            "  inflating: __MACOSX/Resumes/._Praveen T.docx  \n",
            "  inflating: Resumes/Naveen.S_Resume.docx  \n",
            "  inflating: __MACOSX/Resumes/._Naveen.S_Resume.docx  \n",
            "  inflating: Resumes/BA with INV.docx  \n",
            "  inflating: __MACOSX/Resumes/._BA with INV.docx  \n",
            "  inflating: Resumes/Resume_Spoorti Pandit_BSA.docx  \n",
            "  inflating: __MACOSX/Resumes/._Resume_Spoorti Pandit_BSA.docx  \n",
            "  inflating: Resumes/Saiteja G.docx  \n",
            "  inflating: __MACOSX/Resumes/._Saiteja G.docx  \n",
            "  inflating: Resumes/Alekhya Resume.docx  \n",
            "  inflating: __MACOSX/Resumes/._Alekhya Resume.docx  \n",
            "  inflating: Resumes/Shelly Woods.docx  \n",
            "  inflating: __MACOSX/Resumes/._Shelly Woods.docx  \n",
            "  inflating: Resumes/Resume - Sr PM.docx  \n",
            "  inflating: __MACOSX/Resumes/._Resume - Sr PM.docx  \n",
            "  inflating: Resumes/Krishna Kuruvella.docx  \n",
            "  inflating: __MACOSX/Resumes/._Krishna Kuruvella.docx  \n",
            "  inflating: Resumes/Ravi Reddy.docx  \n",
            "  inflating: __MACOSX/Resumes/._Ravi Reddy.docx  \n",
            "  inflating: Resumes/Vishnu BA Resume.docx  \n",
            "  inflating: __MACOSX/Resumes/._Vishnu BA Resume.docx  \n",
            "  inflating: Resumes/ronith s.docx   \n",
            "  inflating: __MACOSX/Resumes/._ronith s.docx  \n",
            "  inflating: Resumes/Rohanu Resume.docx  \n",
            "  inflating: __MACOSX/Resumes/._Rohanu Resume.docx  \n",
            "  inflating: Resumes/Sravani Battu.docx  \n",
            "  inflating: __MACOSX/Resumes/._Sravani Battu.docx  \n",
            "  inflating: Resumes/Sumanth Manne Java Developer.docx  \n",
            "  inflating: __MACOSX/Resumes/._Sumanth Manne Java Developer.docx  \n",
            "  inflating: Resumes/Ujvala BA Feb 20.docx  \n",
            "  inflating: __MACOSX/Resumes/._Ujvala BA Feb 20.docx  \n",
            "  inflating: Resumes/Uday_Maripelly.docx  \n",
            "  inflating: __MACOSX/Resumes/._Uday_Maripelly.docx  \n",
            "  inflating: Resumes/Krishna_SrJava.docx  \n",
            "  inflating: __MACOSX/Resumes/._Krishna_SrJava.docx  \n",
            "  inflating: Resumes/Achyuth Resume_8.docx  \n",
            "  inflating: __MACOSX/Resumes/._Achyuth Resume_8.docx  \n",
            "  inflating: Resumes/Sahas BA Resume.docx  \n",
            "  inflating: __MACOSX/Resumes/._Sahas BA Resume.docx  \n",
            "  inflating: Resumes/Dhanalaxmi -BA.docx  \n",
            "  inflating: __MACOSX/Resumes/._Dhanalaxmi -BA.docx  \n",
            "  inflating: Resumes/Bharat Arora_CV_PMP _ ERP1.docx  \n",
            "  inflating: __MACOSX/Resumes/._Bharat Arora_CV_PMP _ ERP1.docx  \n",
            "  inflating: Resumes/Rao_Java.docx   \n",
            "  inflating: __MACOSX/Resumes/._Rao_Java.docx  \n",
            "  inflating: Resumes/Bapuji Hadoop developer.docx  \n",
            "  inflating: __MACOSX/Resumes/._Bapuji Hadoop developer.docx  \n",
            "  inflating: Resumes/Jayadattaperi N.docx  \n",
            "  inflating: __MACOSX/Resumes/._Jayadattaperi N.docx  \n",
            "  inflating: Resumes/Varun Kumar.docx  \n",
            "  inflating: __MACOSX/Resumes/._Varun Kumar.docx  \n",
            "  inflating: Resumes/jeck P.docx     \n",
            "  inflating: __MACOSX/Resumes/._jeck P.docx  \n",
            "  inflating: Resumes/Jimi_Desai_PM.docx  \n",
            "  inflating: __MACOSX/Resumes/._Jimi_Desai_PM.docx  \n",
            "  inflating: Resumes/Mehul.docx      \n",
            "  inflating: __MACOSX/Resumes/._Mehul.docx  \n",
            "  inflating: Resumes/Sravani Singirikonda.docx  \n",
            "  inflating: __MACOSX/Resumes/._Sravani Singirikonda.docx  \n",
            "  inflating: Resumes/Tushar Patel.docx  \n",
            "  inflating: __MACOSX/Resumes/._Tushar Patel.docx  \n",
            "  inflating: Resumes/Amar Sr BSA.docx  \n",
            "  inflating: __MACOSX/Resumes/._Amar Sr BSA.docx  \n",
            "  inflating: Resumes/Gautami Bulusu Mobile Testing 3.docx  \n",
            "  inflating: __MACOSX/Resumes/._Gautami Bulusu Mobile Testing 3.docx  \n",
            "  inflating: Resumes/Niteesh Java Developer.docx  \n",
            "  inflating: __MACOSX/Resumes/._Niteesh Java Developer.docx  \n",
            "  inflating: Resumes/Vishal S..docx  \n",
            "  inflating: __MACOSX/Resumes/._Vishal S..docx  \n",
            "  inflating: Resumes/Mohammad Resume.docx  \n",
            "  inflating: __MACOSX/Resumes/._Mohammad Resume.docx  \n",
            "  inflating: Resumes/vema reddy.docx  \n",
            "  inflating: __MACOSX/Resumes/._vema reddy.docx  \n",
            "  inflating: Resumes/nithin Reddy.docx  \n",
            "  inflating: __MACOSX/Resumes/._nithin Reddy.docx  \n",
            "  inflating: Resumes/Jaya prakash.docx  \n",
            "  inflating: __MACOSX/Resumes/._Jaya prakash.docx  \n",
            "  inflating: Resumes/Amrinder Business Analyst.docx  \n",
            "  inflating: __MACOSX/Resumes/._Amrinder Business Analyst.docx  \n",
            "  inflating: Resumes/Resume2018March.docx  \n",
            "  inflating: __MACOSX/Resumes/._Resume2018March.docx  \n",
            "  inflating: Resumes/Resume - Kishore Kotapati - 218E - BA.docx  \n",
            "  inflating: __MACOSX/Resumes/._Resume - Kishore Kotapati - 218E - BA.docx  \n",
            "  inflating: Resumes/Raju Goduguchinta_Technical Program Manager.docx  \n",
            "  inflating: __MACOSX/Resumes/._Raju Goduguchinta_Technical Program Manager.docx  \n",
            "  inflating: Resumes/Spoorthi Finance BSA Resume.docx  \n",
            "  inflating: __MACOSX/Resumes/._Spoorthi Finance BSA Resume.docx  \n",
            "  inflating: Resumes/Shiuli Mahmud.docx  \n",
            "  inflating: __MACOSX/Resumes/._Shiuli Mahmud.docx  \n",
            "  inflating: Resumes/Naresh V.docx   \n",
            "  inflating: __MACOSX/Resumes/._Naresh V.docx  \n",
            "  inflating: Resumes/Tarun.docx      \n",
            "  inflating: __MACOSX/Resumes/._Tarun.docx  \n",
            "  inflating: Resumes/RAMYA BUSINESS ANALYST RESUME.docx  \n",
            "  inflating: __MACOSX/Resumes/._RAMYA BUSINESS ANALYST RESUME.docx  \n",
            "  inflating: Resumes/vikas java.docx  \n",
            "  inflating: __MACOSX/Resumes/._vikas java.docx  \n",
            "  inflating: Resumes/BA - Abhishek.docx  \n",
            "  inflating: __MACOSX/Resumes/._BA - Abhishek.docx  \n",
            "  inflating: Resumes/Sharath Java.docx  \n",
            "  inflating: __MACOSX/Resumes/._Sharath Java.docx  \n",
            "  inflating: Resumes/mahesh_Java.docx  \n",
            "  inflating: __MACOSX/Resumes/._mahesh_Java.docx  \n",
            "  inflating: Resumes/Reddemma_Lankipalle.docx  \n",
            "  inflating: __MACOSX/Resumes/._Reddemma_Lankipalle.docx  \n",
            "  inflating: Resumes/mounika BA resume 7.docx  \n",
            "  inflating: __MACOSX/Resumes/._mounika BA resume 7.docx  \n",
            "  inflating: Resumes/Anil Krishna Mogalaturthi.docx  \n",
            "  inflating: __MACOSX/Resumes/._Anil Krishna Mogalaturthi.docx  \n",
            "  inflating: Resumes/Murali_Project Manager QA.DOCX  \n",
            "  inflating: __MACOSX/Resumes/._Murali_Project Manager QA.DOCX  \n",
            "  inflating: Resumes/sanjay kumar.docx  \n",
            "  inflating: __MACOSX/Resumes/._sanjay kumar.docx  \n",
            "  inflating: Resumes/KY BA PM UPDATED RESUME .docx  \n",
            "  inflating: __MACOSX/Resumes/._KY BA PM UPDATED RESUME .docx  \n",
            "  inflating: Resumes/Brahma-Resume (BA).docx  \n",
            "  inflating: __MACOSX/Resumes/._Brahma-Resume (BA).docx  \n",
            "  inflating: Resumes/Robinson.docx   \n",
            "  inflating: __MACOSX/Resumes/._Robinson.docx  \n",
            "  inflating: Resumes/venu b.docx     \n",
            "  inflating: __MACOSX/Resumes/._venu b.docx  \n",
            "  inflating: Resumes/Ami Jape.docx   \n",
            "  inflating: __MACOSX/Resumes/._Ami Jape.docx  \n",
            "  inflating: Resumes/Siddhartha Gandroju.docx  \n",
            "  inflating: __MACOSX/Resumes/._Siddhartha Gandroju.docx  \n",
            "  inflating: Resumes/Adhi Gopalam - SM.docx  \n",
            "  inflating: __MACOSX/Resumes/._Adhi Gopalam - SM.docx  \n",
            "  inflating: Resumes/Pankaj BSA.docx  \n",
            "  inflating: __MACOSX/Resumes/._Pankaj BSA.docx  \n",
            "  inflating: Resumes/Ranjan_Project Manager-Scrum Master.docx  \n",
            "  inflating: __MACOSX/Resumes/._Ranjan_Project Manager-Scrum Master.docx  \n",
            "  inflating: Resumes/CHETAN_Sr Java Developer.docx  \n",
            "  inflating: __MACOSX/Resumes/._CHETAN_Sr Java Developer.docx  \n",
            "  inflating: Resumes/Santosh Arugula BA.docx  \n",
            "  inflating: __MACOSX/Resumes/._Santosh Arugula BA.docx  \n",
            "  inflating: Resumes/Akhil_Sr BSA.docx  \n",
            "  inflating: __MACOSX/Resumes/._Akhil_Sr BSA.docx  \n",
            "  inflating: Resumes/Sundar_Java_8+ Years..docx  \n",
            "  inflating: __MACOSX/Resumes/._Sundar_Java_8+ Years..docx  \n",
            "  inflating: Resumes/SUNITHA Project Manager (1).docx  \n",
            "  inflating: __MACOSX/Resumes/._SUNITHA Project Manager (1).docx  \n",
            "  inflating: Resumes/sairithvik alla.docx  \n",
            "  inflating: __MACOSX/Resumes/._sairithvik alla.docx  \n",
            "  inflating: Resumes/Haarika_BA.docx  \n",
            "  inflating: __MACOSX/Resumes/._Haarika_BA.docx  \n",
            "  inflating: Resumes/AjayKumar.docx  \n",
            "  inflating: __MACOSX/Resumes/._AjayKumar.docx  \n",
            "  inflating: Resumes/Nikhil.docx     \n",
            "  inflating: __MACOSX/Resumes/._Nikhil.docx  \n",
            "  inflating: Resumes/B Suresh Kumar_Project Manager_1.docx  \n",
            "  inflating: __MACOSX/Resumes/._B Suresh Kumar_Project Manager_1.docx  \n",
            "  inflating: Resumes/Harshitha Challa.docx  \n",
            "  inflating: __MACOSX/Resumes/._Harshitha Challa.docx  \n",
            "  inflating: Resumes/Venkata_Sr.PHP_Developer.docx  \n",
            "  inflating: __MACOSX/Resumes/._Venkata_Sr.PHP_Developer.docx  \n",
            "  inflating: Resumes/V Ashok A.docx  \n",
            "  inflating: __MACOSX/Resumes/._V Ashok A.docx  \n",
            "  inflating: Resumes/Navneeth Resume.docx  \n",
            "  inflating: __MACOSX/Resumes/._Navneeth Resume.docx  \n",
            "  inflating: Resumes/Vishnu Java dev.docx  \n",
            "  inflating: __MACOSX/Resumes/._Vishnu Java dev.docx  \n"
          ]
        }
      ]
    },
    {
      "cell_type": "code",
      "source": [
        "!pip install nltk"
      ],
      "metadata": {
        "colab": {
          "base_uri": "https://localhost:8080/"
        },
        "id": "e2S2qDVhn3vf",
        "outputId": "683a3a41-3838-49e5-887f-6dcb274adf5a"
      },
      "execution_count": 3,
      "outputs": [
        {
          "output_type": "stream",
          "name": "stdout",
          "text": [
            "Looking in indexes: https://pypi.org/simple, https://us-python.pkg.dev/colab-wheels/public/simple/\n",
            "Requirement already satisfied: nltk in /usr/local/lib/python3.8/dist-packages (3.7)\n",
            "Requirement already satisfied: joblib in /usr/local/lib/python3.8/dist-packages (from nltk) (1.2.0)\n",
            "Requirement already satisfied: tqdm in /usr/local/lib/python3.8/dist-packages (from nltk) (4.64.1)\n",
            "Requirement already satisfied: regex>=2021.8.3 in /usr/local/lib/python3.8/dist-packages (from nltk) (2022.6.2)\n",
            "Requirement already satisfied: click in /usr/local/lib/python3.8/dist-packages (from nltk) (7.1.2)\n"
          ]
        }
      ]
    },
    {
      "cell_type": "code",
      "source": [
        "!pip install docx2txt"
      ],
      "metadata": {
        "colab": {
          "base_uri": "https://localhost:8080/"
        },
        "id": "oqkI8nIIGmQ6",
        "outputId": "f31717ce-32c6-498d-9e68-6f0554b8631a"
      },
      "execution_count": 4,
      "outputs": [
        {
          "output_type": "stream",
          "name": "stdout",
          "text": [
            "Looking in indexes: https://pypi.org/simple, https://us-python.pkg.dev/colab-wheels/public/simple/\n",
            "Collecting docx2txt\n",
            "  Downloading docx2txt-0.8.tar.gz (2.8 kB)\n",
            "Building wheels for collected packages: docx2txt\n",
            "  Building wheel for docx2txt (setup.py) ... \u001b[?25l\u001b[?25hdone\n",
            "  Created wheel for docx2txt: filename=docx2txt-0.8-py3-none-any.whl size=3980 sha256=9cbc87f458127347210ff51d3bb75bbaa8830e647ffb5f21412380f6e990d501\n",
            "  Stored in directory: /root/.cache/pip/wheels/55/f0/2c/81637d42670985178b77df6d41b9b6c6dc18c94818447414b9\n",
            "Successfully built docx2txt\n",
            "Installing collected packages: docx2txt\n",
            "Successfully installed docx2txt-0.8\n"
          ]
        }
      ]
    },
    {
      "cell_type": "code",
      "source": [
        "import nltk"
      ],
      "metadata": {
        "id": "JzFtEcSLB6fI"
      },
      "execution_count": 5,
      "outputs": []
    },
    {
      "cell_type": "code",
      "source": [
        "%cd Resumes"
      ],
      "metadata": {
        "colab": {
          "base_uri": "https://localhost:8080/"
        },
        "id": "My1iI1McHiBS",
        "outputId": "de5d1c47-8b6c-443c-a492-a21daadeaf25"
      },
      "execution_count": 6,
      "outputs": [
        {
          "output_type": "stream",
          "name": "stdout",
          "text": [
            "/content/Resumes\n"
          ]
        }
      ]
    },
    {
      "cell_type": "code",
      "source": [
        "from docx import Document\n",
        "import os\n",
        "import re"
      ],
      "metadata": {
        "id": "GVmgofdbSWXf"
      },
      "execution_count": 83,
      "outputs": []
    },
    {
      "cell_type": "code",
      "source": [
        "!pwd"
      ],
      "metadata": {
        "colab": {
          "base_uri": "https://localhost:8080/"
        },
        "id": "KSsfx_0JSeQD",
        "outputId": "fe61bcf7-34e9-4d9c-85a1-d7968acf83bc"
      },
      "execution_count": 9,
      "outputs": [
        {
          "output_type": "stream",
          "name": "stdout",
          "text": [
            "/content/Resumes\n"
          ]
        }
      ]
    },
    {
      "cell_type": "code",
      "source": [
        "import docx2txt"
      ],
      "metadata": {
        "id": "woI8y3UiMKHh"
      },
      "execution_count": 10,
      "outputs": []
    },
    {
      "cell_type": "code",
      "source": [
        "path = os.getcwd()\n",
        "path\n",
        "l = os.listdir(path)\n",
        "len(l)"
      ],
      "metadata": {
        "colab": {
          "base_uri": "https://localhost:8080/"
        },
        "id": "2sfacBisMu0z",
        "outputId": "f35acc8b-16b9-4393-c17b-a1a8bdaecdf9"
      },
      "execution_count": 11,
      "outputs": [
        {
          "output_type": "execute_result",
          "data": {
            "text/plain": [
              "228"
            ]
          },
          "metadata": {},
          "execution_count": 11
        }
      ]
    },
    {
      "cell_type": "code",
      "source": [
        "emails = []\n",
        "for resume in l:\n",
        "  text = docx2txt.process(resume)\n",
        "  pattern = re.compile(r'[a-zA-Z0-9\\.]*@[a-zA-Z\\.]*\\.[a-zA-Z]+')\n",
        "  matches = pattern.finditer(text)\n",
        "  for x in matches : \n",
        "    emails.append(x.group(0))\n"
      ],
      "metadata": {
        "id": "K8nUBlfnKKJV"
      },
      "execution_count": 12,
      "outputs": []
    },
    {
      "cell_type": "code",
      "source": [
        "emails"
      ],
      "metadata": {
        "colab": {
          "base_uri": "https://localhost:8080/"
        },
        "id": "cUI6ItViMgW5",
        "outputId": "3db28f6b-c879-498e-fda2-420dfaa7ad64"
      },
      "execution_count": 112,
      "outputs": [
        {
          "output_type": "execute_result",
          "data": {
            "text/plain": [
              "['surya@synapsisinc.com',\n",
              " 'reddy.vijethaa@gmail.com',\n",
              " 'nalluri.t01@gmail.com',\n",
              " 'vinay.donthoju1@gmail.com',\n",
              " 'amirindersingh1234@gmail.com',\n",
              " 'Praveen@indiquesolutions.com',\n",
              " 'niki.nimmagadda@gmail.com',\n",
              " 'raojavadev7@gmail.com',\n",
              " 'reddyharika242@gmail.com',\n",
              " 'gopal@infoservicesllc.com',\n",
              " 'asmith@nichesoftsolutions.com',\n",
              " 'santhoshkabraham@gmail.com',\n",
              " 'Expert.java11@gmail.com',\n",
              " 'chennakesava231@gmail.com',\n",
              " 'asmith@nichesoftsolutions.com',\n",
              " 'Mounika10200@gmail.com',\n",
              " 'chintalapatideepika@gmail.com',\n",
              " 'samirrnaik2018@gmail.com',\n",
              " 'k.kalyandass87@gmail.com',\n",
              " 'Mounika10200@gmail.com',\n",
              " 'Mounikareddy138@gmail.com',\n",
              " 'Manikanta@softwarebloc.com',\n",
              " 'yugeshm4@gmail.com',\n",
              " 'manikanta.java3@gmail.com',\n",
              " 'Venkat@infoservicesllc.com',\n",
              " 'hariguraka@gmail.com',\n",
              " 'rashmitha.java134@gmail.com',\n",
              " 'smounika.ba@gmail.com',\n",
              " 'adhigopalam@gmail.com',\n",
              " 'teresaneet.ba@gmail.com',\n",
              " 'ramakrishna@infoservicesllc.com',\n",
              " 'anilagarwal.1604@gmail.com',\n",
              " 'scott@egbsystems.com',\n",
              " 'avinashgne@gmail.com',\n",
              " 'jammigumpulavishnu452@gmail.com',\n",
              " 'jeck01008@yandex.com',\n",
              " 'prasannak@suntechpros.com',\n",
              " 'Prasanna@intellyk.com',\n",
              " 'ujvala.b.1@gmail.com',\n",
              " 'shaker.0516@gmail.com',\n",
              " 'madurichand@gmail.com',\n",
              " 'hr3@indeedemail.com',\n",
              " 'sam@vishconsultingservices.com',\n",
              " 'Shelly.woods@hrmediary.com',\n",
              " 'jagansrconsult@gmail.com',\n",
              " 'jagansrconsult@gmail.com',\n",
              " 'Panchalprofessional@gmail.com',\n",
              " 'gopi.siddb@gmail.com',\n",
              " 'Srinivasjava04@gmail.com',\n",
              " 'sureshkumar.basetti@gmail.com',\n",
              " 'sreevatsan77@gmail.com',\n",
              " 'Saikiran.kandari@gmail.com',\n",
              " 'drakshajavauidev93@gmail.com',\n",
              " 'chintalapatideepika@gmail.com',\n",
              " 'msumanth39@gmail.com',\n",
              " 'vikas.developer8@gmail.com',\n",
              " 'haarika.ba@gmail.com',\n",
              " 'PierreJohn14@yahoo.com',\n",
              " 'yourrp@gmail.com',\n",
              " 'venu6773@gmail.com',\n",
              " 'Nikith.k25@gmail.com',\n",
              " 'rpgoudburra@gmail.com',\n",
              " 'Rohanuj08@gmail.com',\n",
              " 'naveen.snr87@gmail.com',\n",
              " 'mahe2050.mk@gmail.com',\n",
              " 'Ami.ITManager@gmail.com',\n",
              " 'Ami.ITManager@gmail.com',\n",
              " 'achyuth.java88@gmail.com',\n",
              " 'dayakar@americanitsolutionsinc.net',\n",
              " 'narenlenka99@gmail.com',\n",
              " 'bapuji.dbj@gmail.com',\n",
              " 'nikhil.akula06@gmail.com',\n",
              " 'tanmaydam.14@gmail.com',\n",
              " 'praveen06t@gmail.com',\n",
              " 'ravikiranteja.j@gmail.com',\n",
              " 'jammigumpulavishnu452@gmail.com',\n",
              " 'vishalsingh19851@gmail.com',\n",
              " 'manjunath@nichesoftsolutions.com',\n",
              " '11baconsultant@outlook.com',\n",
              " 'anudeepreddynallamada@gmail.com',\n",
              " 'padmasri.vamsi@gmail.com',\n",
              " 'vishalsalman@gmail.com',\n",
              " 'harishv9631@gmail.com',\n",
              " 'vamshiteja50@gmail.com',\n",
              " 'richard@sonussoftwareinc.com',\n",
              " 'Mike@sqldatasolutionsinc.com',\n",
              " 'kumarjava174@gmail.com',\n",
              " 'sharath1323@gmail.com',\n",
              " 'Shashank.tiwari44@gmail.com',\n",
              " 'naresh.java34@gmail.com',\n",
              " 'Jagadeesh14917@gmail.com',\n",
              " 'banthiya@yahoo.com',\n",
              " 'psrleo81@gmail.com',\n",
              " 'akhil.mohan0109@gmail.com',\n",
              " 'randyadams526@yahoo.com',\n",
              " 's.shidhore17@gmail.com',\n",
              " 's.shidhore17@gmail.com',\n",
              " 'Ram1421980@gmail.com',\n",
              " 'Avinash87.java@gmail.com',\n",
              " 'erimia@msn.com',\n",
              " 'erimia@msn.com',\n",
              " 'satish.reddy.5484@gmail.com',\n",
              " 'vmaniv08@gmail.com',\n",
              " 'Shivag6600@gmail.com',\n",
              " 'naveenkumar.java18@gmail.com',\n",
              " 'derik.howarth@gmail.com',\n",
              " 'iahmed@saggisolutions.net',\n",
              " 'Harish.ui87@gmail.com',\n",
              " 'krishnajava.7056@gmail.com',\n",
              " 'saitejaatwork@gmail.com',\n",
              " 'sutejaswis@gmail.com',\n",
              " 'Praveen@indiquesolutions.com',\n",
              " 'Karan.javau@gmail.com',\n",
              " 'msingh.bsa12@gmail.com',\n",
              " 'myvt.me@gmail.com',\n",
              " 'balajigrealtek@gmail.com',\n",
              " 'balajigrealtek@gmail.com',\n",
              " 'emailbalajig@gmail.com',\n",
              " 'sny.java@gmail.com',\n",
              " 'vemareddy993@gmail.com',\n",
              " 'tarundev.work@gmail.com',\n",
              " 'sai.srinivas.2101@gmail.com',\n",
              " 'alekhya.workmail@gmail.com',\n",
              " 'ncmuralidhar@gmail.com',\n",
              " 'ncmuralidhar@gmail.com',\n",
              " 'mfarhantramboo@gmail.com',\n",
              " 'Krish.java23@gmail.com',\n",
              " 'danny@stackitprofessionals.com',\n",
              " 'praveen.bugalaia001@gmail.com',\n",
              " 'ajaydt@gmail.com',\n",
              " 'santhoshkabraham@gmail.com',\n",
              " 'ashwinicha8@gmail.com',\n",
              " 'tushar.k6@yahoo.com',\n",
              " 'sarathm.java@gmail.com',\n",
              " 'harshithac511@gmail.com',\n",
              " 'sanjay.j0828@gmail.com',\n",
              " 'rvk.reddy240@gmail.com',\n",
              " 'psundar.sf@gmail.com',\n",
              " 'koti@radcomsoftwareservices.com',\n",
              " 'satishkuduta@gmail.com',\n",
              " 'vhealthba@gmail.com',\n",
              " 'manohar.bmr36@gmail.com',\n",
              " 'vvikash.zenbsa@gmail.com',\n",
              " 'venkata.s.k310@gmail.com',\n",
              " 'Krishna32083@gmail.com',\n",
              " 'Sruthi@idolsoftconsulting.com',\n",
              " 'kotapati@yahoo.com',\n",
              " 'niteeshkusumba.java@gmail.com',\n",
              " 'kuppuraj.kr@outlook.com',\n",
              " 'kr.reshma023@gmail.com',\n",
              " 'aroranaveen40@gmail.com',\n",
              " 'abiral.pandey88@gmail.com',\n",
              " 'rithvik.java@gmail.com',\n",
              " 'jaya9.java@gmail.com',\n",
              " 'nagaraju@paramountsoft.net',\n",
              " 'madhurir1702@gmail.com',\n",
              " 'NANDYALARAMAKARTHIK1@GMAIL.COM',\n",
              " 'derik.howarth@gmail.com',\n",
              " 'siddhartha.g225@gmail.com',\n",
              " 'chandler.neel@gmail.com',\n",
              " 'sahas.kf04@gmail.com',\n",
              " 'pavankrishnaturaga@gmail.com',\n",
              " 'Praveen@indiquesolutions.com',\n",
              " 'amulya.javadeveloper@gmail.com',\n",
              " 'bnsmadhavi@gmail.com',\n",
              " 'kop@indeedemail.com',\n",
              " 'sam@vishconsultingservices.com',\n",
              " 'gopijavafullstack@gmail.com',\n",
              " 'shaker.0516@gmail.com',\n",
              " 'priyab8989@gmail.com',\n",
              " 'sam@vishconsultingservices.com',\n",
              " 'nithin7445@gmail.com',\n",
              " 'smounika.ba@gmail.com',\n",
              " 'b.vijay.m09@gmail.com',\n",
              " 'krishna.srbsa@gmail.com',\n",
              " 'rajugoduguchinta@gmail.com',\n",
              " 'chitra@cloudpointamerica.com',\n",
              " 'krish@egrovesys.com',\n",
              " 'JNandini1324@gmail.com',\n",
              " 'JNandini1324@gmail.com',\n",
              " 'kashyapkvora@gmail.com',\n",
              " 'Kumar85aug@gmail.com',\n",
              " 'Amar.srbsa@gmail.com',\n",
              " 'saiteja@theegiants.com',\n",
              " 'patel@yahoo.com',\n",
              " 'Varunkumar.work@gmail.com',\n",
              " 'ramglobal5111@gmail.com',\n",
              " 'samirrnaik2018@gmail.com',\n",
              " 'Ramya003.m@gmail.com',\n",
              " 'sivagatiganti@gmail.com',\n",
              " 'tuz@indeedemail.com',\n",
              " 'narenlenka99@gmail.com',\n",
              " 'booram.chai@gmail.com',\n",
              " 'mohid0089300@gmail.com',\n",
              " 'khushbubenv@gmail.com',\n",
              " 'ajay@appsboat.com',\n",
              " 'usilawal123@gmail.com',\n",
              " 'sahithi.javadev8@gmail.com',\n",
              " 'Pavank0686@gmail.com',\n",
              " 'ashtechjava12@gmail.com',\n",
              " 'bsudabathula@gmail.com',\n",
              " 'akhil.mohan0109@gmail.com',\n",
              " 'pranaypjava@aol.com',\n",
              " 'nithinwork123@gmail.com',\n",
              " 'sougandh.work@gmail.com',\n",
              " 'manohar.r7754@gmail.com',\n",
              " '2pq@indeedemail.com']"
            ]
          },
          "metadata": {},
          "execution_count": 112
        }
      ]
    },
    {
      "cell_type": "code",
      "source": [
        "len(emails)"
      ],
      "metadata": {
        "colab": {
          "base_uri": "https://localhost:8080/"
        },
        "id": "NjzZUlrgTG5x",
        "outputId": "df549271-323e-42e8-f1f9-25c9379f41ec"
      },
      "execution_count": 113,
      "outputs": [
        {
          "output_type": "execute_result",
          "data": {
            "text/plain": [
              "207"
            ]
          },
          "metadata": {},
          "execution_count": 113
        }
      ]
    },
    {
      "cell_type": "code",
      "source": [
        "def extractor(filename):\n",
        "  path= '/content/Resumes'\n",
        "  os.chdir(path)\n",
        "  if filename in os.listdir(os.getcwd()):\n",
        "    text = docx2txt.process(filename)\n",
        "\n",
        "    pattern_phone = re.compile(r'[\\+\\d.]*\\s?\\(?[0-9]{3}\\)?\\.?\\-?\\s?[0-9]{3}\\.?\\-?\\s?[0-9]{4}\\s?[A-Z]*\\s?[0-9]*\\s?')\n",
        "    phone = pattern_phone.finditer(text)\n",
        "\n",
        "\n",
        "    pattern_mail = re.compile(r'[a-zA-Z0-9\\.]*@[a-zA-Z\\.]*\\.[a-zA-Z]+')\n",
        "    mail = pattern_mail.finditer(text)\n",
        "\n",
        "\n",
        "    pattern_name = re.compile(r'[a-zA-Z]{1,}\\s?[a-zA-Z]{1,}\\.?\\'?\\-?\\s?([a-zA-Z]*)?\\s?([a-zA-Z]*\\s)?')\n",
        "    name= pattern_name.finditer(text)\n",
        "\n",
        "\n",
        "    print(\"Name : \"+ str([x.group(0) for x in name][0]).rstrip())\n",
        "    print(\"Email ID : \"+ str([x.group(0) for x in mail][0]))\n",
        "    print(\"Phone No. : \"+str([x.group(0) for x in phone][0]))\n",
        "\n"
      ],
      "metadata": {
        "id": "GcXBLijCSDV7"
      },
      "execution_count": 79,
      "outputs": []
    },
    {
      "cell_type": "code",
      "source": [
        "extractor('Ashok Jayakumar - PM.docx')\n"
      ],
      "metadata": {
        "colab": {
          "base_uri": "https://localhost:8080/"
        },
        "id": "SvjZvvp6rgKi",
        "outputId": "b079d0f2-ac4c-44d2-ec69-4ba1dc020277"
      },
      "execution_count": 75,
      "outputs": [
        {
          "output_type": "stream",
          "name": "stdout",
          "text": [
            "Name : Ashok Jayakumar   \n",
            "Email ID : Venkat@infoservicesllc.com\n",
            "Phone No. :  734-259-2421 EXT 104\t\n"
          ]
        }
      ]
    },
    {
      "cell_type": "code",
      "source": [
        "extractor('Akhil_Sr BSA.docx')"
      ],
      "metadata": {
        "colab": {
          "base_uri": "https://localhost:8080/"
        },
        "id": "ykv6WTLGrlos",
        "outputId": "223caf2e-17ca-475b-8d23-88e0380e41d3"
      },
      "execution_count": 77,
      "outputs": [
        {
          "output_type": "stream",
          "name": "stdout",
          "text": [
            "Name : Akhil   \n",
            "Email ID : akhil.mohan0109@gmail.com\n",
            "Phone No. :  510-953-0677\n",
            "\n",
            "\n"
          ]
        }
      ]
    },
    {
      "cell_type": "code",
      "source": [
        "extractor('B Suresh Kumar_Project Manager_1.docx')"
      ],
      "metadata": {
        "colab": {
          "base_uri": "https://localhost:8080/"
        },
        "id": "8Jx92tkZ7nec",
        "outputId": "49c65525-eb78-4a47-a25e-d0b10fb25b48"
      },
      "execution_count": 81,
      "outputs": [
        {
          "output_type": "stream",
          "name": "stdout",
          "text": [
            "Name : Suresh Basetti\n",
            "Email ID : sureshkumar.basetti@gmail.com\n",
            "Phone No. : +1 925 900 3354\n",
            "\n",
            "\t\n"
          ]
        }
      ]
    },
    {
      "cell_type": "code",
      "source": [
        "extractor('BA with INV.docx')"
      ],
      "metadata": {
        "colab": {
          "base_uri": "https://localhost:8080/"
        },
        "id": "pWQFJlfjslhH",
        "outputId": "0fc0b6fd-4c63-4284-fd65-007f627eedb4"
      },
      "execution_count": 80,
      "outputs": [
        {
          "output_type": "stream",
          "name": "stdout",
          "text": [
            "Name : GOPI SID\n",
            "Email ID : gopi.siddb@gmail.com\n",
            "Phone No. :  (929)217-7347\n",
            "\n",
            "\n",
            "\n"
          ]
        }
      ]
    },
    {
      "cell_type": "code",
      "source": [
        "extractor('Bapuji Hadoop developer.docx')"
      ],
      "metadata": {
        "colab": {
          "base_uri": "https://localhost:8080/"
        },
        "id": "MvZZcRPYuCtN",
        "outputId": "035ed420-9ea8-43cc-d4a5-7917e22f2c2a"
      },
      "execution_count": 82,
      "outputs": [
        {
          "output_type": "stream",
          "name": "stdout",
          "text": [
            "Name : Bapuji\n",
            "Email ID : bapuji.dbj@gmail.com\n",
            "Phone No. : +1(224)-706-0020   \n"
          ]
        }
      ]
    },
    {
      "cell_type": "code",
      "source": [],
      "metadata": {
        "id": "cLk7JfPjuUxJ"
      },
      "execution_count": null,
      "outputs": []
    }
  ]
}